{
 "cells": [
  {
   "cell_type": "markdown",
   "metadata": {},
   "source": [
    "# Inference and Visualization of UW-Madison Data\n"
   ]
  },
  {
   "cell_type": "markdown",
   "metadata": {},
   "source": [
    "# Import Libraries"
   ]
  },
  {
   "cell_type": "code",
   "execution_count": 3,
   "metadata": {},
   "outputs": [],
   "source": [
    "import numpy as np\n",
    "import pandas as pd\n",
    "pd.options.plotting.backend = \"plotly\"\n",
    "import random\n",
    "from glob import glob\n",
    "import os, shutil\n",
    "from tqdm.notebook import tqdm\n",
    "tqdm.pandas()\n",
    "import time\n",
    "import copy\n",
    "import joblib\n",
    "import gc\n",
    "from IPython import display as ipd\n",
    "from joblib import Parallel, delayed\n",
    "\n",
    "# visualization\n",
    "import cv2\n",
    "import matplotlib.pyplot as plt\n",
    "import matplotlib.colors as colors\n",
    "from matplotlib import image as mpimg\n",
    "from matplotlib.patches import Rectangle"
   ]
  },
  {
   "cell_type": "markdown",
   "metadata": {},
   "source": [
    "# 3D Image Utilities"
   ]
  },
  {
   "cell_type": "code",
   "execution_count": 4,
   "metadata": {},
   "outputs": [],
   "source": [
    "def load_3d(folder, subfolder, case_day):    \n",
    "    path = f\"{folder}/{subfolder}/{case_day}.npy\"\n",
    "    # print(path)\n",
    "    img = np.load(path, encoding='bytes')\n",
    "    return img\n",
    "\n",
    "def show_3d(folder, case_day, num_wanted, show_mask, scale):\n",
    "\n",
    "    image_3d = load_3d(folder, \"images\", case_day)\n",
    "    if show_mask:\n",
    "        mask_3d = load_3d(folder, \"masks\", case_day)\n",
    "\n",
    "    max_slice = image_3d.shape[2]\n",
    "    if num_wanted== -1:\n",
    "        num_wanted = max_slice + 1\n",
    "    slices = [max_slice  * (sample_num + 1)  // (num_wanted+1) for sample_num in range(num_wanted)]\n",
    "    # slices = [92] # zona\n",
    "    print(f\"slices {slices}\")\n",
    "\n",
    "    nrows = len(slices)\n",
    "    ncols = 2\n",
    "    plt.figure(1)\n",
    "    fix, axs = plt.subplots(nrows, ncols, figsize=(ncols*scale, nrows*scale),\n",
    "                            subplot_kw={'xticks': [], 'yticks': []})\n",
    "\n",
    "    index = 0\n",
    "    for slice in slices:\n",
    "\n",
    "        index += 1\n",
    "        plt.subplot(nrows, ncols, index)\n",
    "        plt.title(f\"Slice {slice}\")\n",
    "\n",
    "        image_2d = image_3d[:, :, slice]\n",
    "        plt.imshow(image_2d,  interpolation='none', cmap='bone')\n",
    "        # plt.imshow(image_2d)\n",
    "\n",
    "        index += 1\n",
    "        if show_mask:\n",
    "            mask_2d = mask_3d[:, :, slice]\n",
    "            counts, buckets = np.histogram(mask_2d, bins=256, range=(-0.5, 255.5))\n",
    "            count_string = (f\"noclass:{counts[0]}\\n\" +\n",
    "                            f\"a:{counts[1]} b:{counts[2]} c:{counts[4]}\\n\" +\n",
    "                            f\"ab:{counts[3]} ac:{counts[5]} bc:{counts[6]} abc:{counts[7]}\")\n",
    "\n",
    "            # mask_2d_normalized = mask_3d_normalized[:, :, slice]\n",
    "            # print(np.histogram(mask_2d, bins=8, range=(-0.5, 7.5)))\n",
    "        \n",
    "            plt.subplot(nrows, ncols, index)\n",
    "            plt.title(count_string, loc='left')\n",
    "            # plt.imshow(mask_2d_normalized)\n",
    "            # plt.imshow(mask_2d_normalized, cmap='bone')\n",
    "            # plt.imshow(mask_2d, cmap = plt.colormaps[\"plasma\"])\n",
    "            # plt.imshow(mask_2d, cmap = plt.colormaps[\"inferno\"])\n",
    "            # plt.imshow(mask_2d, vmin=0, vmax=7, cmap = plt.colormaps[\"magma\"])\n",
    "            plt.imshow(mask_2d, vmin=0, vmax=7, interpolation='none', cmap = plt.colormaps[\"nipy_spectral\"])\n",
    "\n",
    "\n",
    "        #     # plt.imshow(np.ma.masked_where(mask!=1, mask), alpha=0.5, cmap='autumn')\n",
    "        #     plt.imshow(mask, alpha=0.5)\n",
    "        #     handles = [Rectangle((0,0),1,1, color=_c) for _c in [(0.667,0.0,0.0), (0.0,0.667,0.0), (0.0,0.0,0.667)]]\n",
    "        #     labels = [ \"Large Bowel\", \"Small Bowel\", \"Stomach\"]\n",
    "        #     plt.legend(handles,labels)\n"
   ]
  },
  {
   "cell_type": "markdown",
   "metadata": {},
   "source": [
    "# Check 3D Image (series of 2D slices)"
   ]
  },
  {
   "cell_type": "code",
   "execution_count": 5,
   "metadata": {},
   "outputs": [],
   "source": [
    "import torch\n",
    "from torch.utils.data import DataLoader\n",
    "from torch.optim.lr_scheduler import ReduceLROnPlateau"
   ]
  },
  {
   "cell_type": "code",
   "execution_count": 6,
   "metadata": {},
   "outputs": [],
   "source": [
    "import datetime"
   ]
  },
  {
   "cell_type": "code",
   "execution_count": 7,
   "metadata": {},
   "outputs": [
    {
     "data": {
      "text/plain": [
       "datetime.datetime(2023, 10, 17, 19, 59, 10, 824949)"
      ]
     },
     "execution_count": 7,
     "metadata": {},
     "output_type": "execute_result"
    }
   ],
   "source": [
    "datetime.datetime.now()"
   ]
  },
  {
   "cell_type": "markdown",
   "metadata": {},
   "source": [
    "# Load Model Checkpoint"
   ]
  },
  {
   "cell_type": "code",
   "execution_count": 17,
   "metadata": {},
   "outputs": [],
   "source": [
    "from capsnet_model_3d import CapsNet3D\n",
    "model = CapsNet3D()\n",
    "\n",
    "path = '/mnt/d/code_medimg_aneja_lab/results_231010/saved_model.pth.tar'\n",
    "checkpoint = torch.load(path)\n",
    "model.load_state_dict(checkpoint['state_dict'])\n",
    "_ = model.eval()"
   ]
  },
  {
   "cell_type": "markdown",
   "metadata": {},
   "source": [
    "# Visualize test results"
   ]
  },
  {
   "cell_type": "code",
   "execution_count": null,
   "metadata": {},
   "outputs": [],
   "source": [
    "### in progress...."
   ]
  },
  {
   "cell_type": "code",
   "execution_count": null,
   "metadata": {},
   "outputs": [],
   "source": [
    "base_folder = '/mnt/d/code_medimg_aneja_lab/data_uwmadison_01c_preprocessed_3d'\n",
    "case_day = 'case_85_day_29'\n",
    "show_3d(base_folder, case_day, num_wanted=-1, show_mask=True, scale=8)"
   ]
  },
  {
   "cell_type": "code",
   "execution_count": null,
   "metadata": {},
   "outputs": [],
   "source": [
    " def validate(self):\n",
    "        print('>>>   Validating   <<<')\n",
    "        self.model.eval()\n",
    "\n",
    "        this_epoch_losses = []\n",
    "\n",
    "        for i, data_batch_cpu in enumerate(self.valid_dataloader):\n",
    "            # inputs, targets = data_batch\n",
    "            # inputs, targets = inputs.to(self.device), targets.to(self.device)\n",
    "\n",
    "            inputs_cpu, targets_cpu = data_batch_cpu\n",
    "\n",
    "            inputs_cpu = torch.unsqueeze(inputs_cpu, 0)\n",
    "            inputs_cpu = torch.permute(inputs_cpu, (1, 0, 2, 3, 4))\n",
    "            inputs_cpu_clone = torch.clone(inputs_cpu)\n",
    "            inputs = inputs_cpu_clone.to(self.device, dtype=torch.float32)\n",
    "\n",
    "            targets_cpu = torch.unsqueeze(targets_cpu, 0)\n",
    "            targets_cpu = torch.permute(targets_cpu, (1, 0, 2, 3, 4))\n",
    "            targets_cpu_clone = torch.clone(targets_cpu)\n",
    "            targets = targets_cpu_clone.to(self.device, dtype=torch.float32)\n",
    "\n",
    "            with torch.no_grad():\n",
    "                outputs = self.model(inputs)\n",
    "                losses = self.criterion_individual_losses(outputs, targets)\n",
    "\n",
    "            this_epoch_losses += list(losses.cpu().numpy())\n",
    "\n",
    "        self.valid_losses = pd.concat([self.valid_losses,\n",
    "                                       pd.DataFrame({f'm{self.miniepoch}_e{self.epoch}': this_epoch_losses})],\n",
    "                                      axis=1)\n",
    "\n",
    "        self.model.train()"
   ]
  },
  {
   "cell_type": "markdown",
   "metadata": {},
   "source": [
    "# Visualizing 3D\n",
    "\n",
    "https://www.geeksforgeeks.org/displaying-3d-images-in-python/"
   ]
  },
  {
   "cell_type": "code",
   "execution_count": null,
   "metadata": {},
   "outputs": [],
   "source": [
    "\n",
    "# Import libraries\n",
    "# import numpy as np\n",
    "# import matplotlib.pyplot as plt\n",
    "from mpl_toolkits.mplot3d import Axes3D\n",
    " \n",
    "# Change the Size of Graph using \n",
    "# Figsize\n",
    "fig = plt.figure(figsize=(10, 10))\n",
    " \n",
    "# Generating a 3D sine wave\n",
    "ax = plt.axes(projection='3d')\n",
    " \n",
    "# Creating array points using \n",
    "# numpy\n",
    "x = np.arange(0, 20, 0.1)\n",
    "y = np.sin(x)\n",
    "z = y*np.sin(x)\n",
    "c = x + y\n",
    " \n",
    "# To create a scatter graph\n",
    "ax.scatter(x, y, z, c=c)\n",
    " \n",
    "# turn off/on axis\n",
    "plt.axis('off')\n",
    " \n",
    "# show the graph\n",
    "plt.show()"
   ]
  },
  {
   "cell_type": "code",
   "execution_count": null,
   "metadata": {},
   "outputs": [],
   "source": [
    "# Import libraries\n",
    "# import matplotlib.pyplot as plt\n",
    "# from mpl_toolkits.mplot3d import Axes3D\n",
    "# import numpy as np\n",
    " \n",
    "# Change the Size of Graph using \n",
    "# Figsize\n",
    "fig = plt.figure(figsize=(10, 10))\n",
    " \n",
    "# Generating a 3D sine wave\n",
    "ax = plt.axes(projection='3d')\n",
    " \n",
    "# Create axis\n",
    "axes = [5, 5, 5]\n",
    " \n",
    "# Create Data\n",
    "data = np.ones(axes)\n",
    " \n",
    "# Control Tranperency\n",
    "alpha = 0.7\n",
    " \n",
    "# Control colour\n",
    "colors = np.empty(axes + [4])\n",
    " \n",
    "colors[0] = [1, 0, 0, alpha]  # red\n",
    "colors[1] = [0, 1, 0, alpha]  # green\n",
    "colors[2] = [0, 0, 1, alpha]  # blue\n",
    "colors[3] = [1, 1, 0, alpha]  # yellow\n",
    "colors[4] = [1, 1, 1, alpha]  # grey\n",
    " \n",
    "# turn off/on axis\n",
    "plt.axis('off')\n",
    " \n",
    "# Voxels is used to customizations of\n",
    "# the sizes, positions and colors.\n",
    "_ = ax.voxels(data, facecolors=colors, edgecolors='grey')"
   ]
  },
  {
   "cell_type": "code",
   "execution_count": null,
   "metadata": {},
   "outputs": [],
   "source": [
    "\n",
    "#Import libraries\n",
    "import numpy as np\n",
    "import matplotlib.pyplot as plt\n",
    "from mpl_toolkits.mplot3d import Axes3D\n",
    " \n",
    "#Change the Size of Graph using Figsize\n",
    "fig = plt.figure(figsize=(10,10))\n",
    " \n",
    "#Generating a 3D sine wave\n",
    "ax = plt.axes(projection='3d')\n",
    " \n",
    " \n",
    "# assigning coordinates \n",
    "x = np.linspace(-1, 5, 10)\n",
    "y = np.linspace(-1, 5, 10)\n",
    "X, Y = np.meshgrid(x, y)\n",
    "# Z = np.sin(np.sqrt(X ** 2 + Y ** 2))\n",
    "Z = np.ones((len(x), len(x)))\n",
    " \n",
    "# creating the visualization\n",
    "ax.plot_wireframe(X, Y, Z, color ='green')\n",
    " \n",
    "# turn off/on axis\n",
    "plt.axis('on')\n",
    "plt.title(\"Whatever\")\n",
    "plt.xlabel(\"The X\")\n",
    "plt.ylabel(\"The Y\")\n",
    "plt.zlabel(\"The Z\")\n",
    "plt.set_zlabel(\"foo\")\n",
    "\n",
    "x"
   ]
  },
  {
   "cell_type": "code",
   "execution_count": null,
   "metadata": {},
   "outputs": [],
   "source": [
    "\n",
    "from numpy import linspace\n",
    "import numpy as np\n",
    "import matplotlib.pyplot as plt\n",
    "from mpl_toolkits import mplot3d\n",
    " \n",
    " \n",
    "# Creating 3D figure\n",
    "fig = plt.figure(figsize=(4, 4))\n",
    "ax = plt.axes(projection='3d')\n",
    " \n",
    "# Creating Dataset\n",
    "z = np.linspace(0, 15, 1000)\n",
    "x = np.sin(z)\n",
    "y = np.cos(z)\n",
    "_ = ax.plot3D(x, y, z, 'green')\n",
    " \n",
    "# 360 Degree view\n",
    "for angle in range(0, 360):\n",
    "    _ = ax.view_init(angle, 30)\n",
    "    _ = plt.draw()\n",
    "    _ = plt.pause(.1)\n",
    " \n",
    "    _ = plt.show()"
   ]
  },
  {
   "cell_type": "code",
   "execution_count": null,
   "metadata": {},
   "outputs": [],
   "source": []
  }
 ],
 "metadata": {
  "kernelspec": {
   "display_name": "pytorch_r_cv2_u_madison",
   "language": "python",
   "name": "python3"
  },
  "language_info": {
   "codemirror_mode": {
    "name": "ipython",
    "version": 3
   },
   "file_extension": ".py",
   "mimetype": "text/x-python",
   "name": "python",
   "nbconvert_exporter": "python",
   "pygments_lexer": "ipython3",
   "version": "3.11.4"
  }
 },
 "nbformat": 4,
 "nbformat_minor": 2
}
